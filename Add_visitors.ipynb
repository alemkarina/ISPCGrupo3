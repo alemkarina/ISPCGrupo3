{
 "cells": [
  {
   "cell_type": "markdown",
   "id": "586e5ea1-88d4-417f-86d3-1afb0721e00f",
   "metadata": {},
   "source": [
    "Getting insights about businesses and locations from Google Maps"
   ]
  },
  {
   "cell_type": "markdown",
   "id": "501a7803-9ab4-4a64-aa72-c32560edc7c2",
   "metadata": {},
   "source": [
    "#https://towardsdatascience.com/getting-insights-about-businesses-and-locations-from-google-maps-3f8a5739059a"
   ]
  },
  {
   "cell_type": "code",
   "execution_count": null,
   "id": "7d8994da-deee-47bc-b2ea-00293e7a40d6",
   "metadata": {},
   "outputs": [],
   "source": []
  },
  {
   "cell_type": "markdown",
   "id": "e4493d10-5885-4a3c-9483-36d99c5d3392",
   "metadata": {},
   "source": [
    "Install >> conda install selenium\n",
    "           conda install -c conda-forge folium\n",
    "           "
   ]
  },
  {
   "cell_type": "code",
   "execution_count": 1,
   "id": "644d3506-f8d7-45d8-ac9d-e07f29155daa",
   "metadata": {},
   "outputs": [],
   "source": [
    "from selenium import webdriver\n",
    "from selenium.webdriver.common.by import By\n",
    "from selenium.webdriver.support.ui import WebDriverWait\n",
    "from selenium.webdriver.support import expected_conditions as EC\n",
    "from selenium.webdriver.common.keys import Keys\n",
    "from selenium.common.exceptions import NoSuchElementException, TimeoutException, ElementNotInteractableException, ElementClickInterceptedException\n",
    "from webdriver_manager.chrome import ChromeDriverManager\n",
    "\n",
    "from tqdm import tqdm.notebook.tqdm as tqdmn\n",
    "\n",
    "import pandas as pd\n",
    "import numpy as np\n",
    "import matplotlib.pyplot as plt\n",
    "import seaborn as sns\n",
    "\n",
    "import folium\n",
    "\n",
    "import time, re"
   ]
  },
  {
   "cell_type": "code",
   "execution_count": 2,
   "id": "2f4cfef9-fba1-45dc-a0d6-d8b9cccb055e",
   "metadata": {},
   "outputs": [
    {
     "data": {
      "text/html": [
       "<style>.dataframe th,td:first-child{background: rgb(63,87,124);background: linear-gradient(180deg, rgba(63,87,124,1) 0%, rgba(101,124,161,1) 100%, rgba(0,212,255,1) 100%);;\n",
       "padding: 10px;font-family: monospace;font-size: 110%;color: white;border:1px dashed white;text-align:left !important;\n",
       "-moz-border-radius: 3x;-webkit-border-radius: 3px;}.dataframe thead{border:none; !important;}</style>\n"
      ],
      "text/plain": [
       "<IPython.core.display.HTML object>"
      ]
     },
     "metadata": {},
     "output_type": "display_data"
    }
   ],
   "source": [
    "%%HTML\n",
    "<style>.dataframe th,td:first-child{background: rgb(63,87,124);background: linear-gradient(180deg, rgba(63,87,124,1) 0%, rgba(101,124,161,1) 100%, rgba(0,212,255,1) 100%);;\n",
    "padding: 10px;font-family: monospace;font-size: 110%;color: white;border:1px dashed white;text-align:left !important;\n",
    "-moz-border-radius: 3x;-webkit-border-radius: 3px;}.dataframe thead{border:none; !important;}</style>"
   ]
  },
  {
   "cell_type": "code",
   "execution_count": 3,
   "id": "f276ea57-2dae-4844-bcc5-d0e8064b5b85",
   "metadata": {},
   "outputs": [
    {
     "name": "stderr",
     "output_type": "stream",
     "text": [
      "[WDM] - Downloading: 100%|██████████| 8.08M/8.08M [00:00<00:00, 19.8MB/s]\n"
     ]
    }
   ],
   "source": [
    "\n",
    "# Make sure to supply the path to where you put the chromedriver.exe file. Use \\\\ instead of \\ :\n",
    "#driver = webdriver.Chrome(\"/Users/karinaalem/Downloads/chromedriver\")\n",
    "custom_path=r'/Users/karinaalem/Downloads/'\n",
    "\n",
    "driver = webdriver.Chrome(ChromeDriverManager(path=custom_path).install())\n",
    "# This is the list where we'll capture the historical landmarks (names and addresses)\n",
    "landmarks = []\n",
    "\n",
    "# The first search we'll do for 'rome touriste attraction'\n",
    "url = 'https://www.google.com/maps/search/shopping en cordoba'\n",
    "\n",
    "# Opening the search URL. You'll notice a chrome window opening :\n",
    "driver.get(url)"
   ]
  },
  {
   "cell_type": "code",
   "execution_count": 7,
   "id": "4978c786-2966-4d15-8ff8-09a51a886dd9",
   "metadata": {},
   "outputs": [
    {
     "name": "stderr",
     "output_type": "stream",
     "text": [
      "/var/folders/gc/ljg3vtjd7xb9n_fpl7cc77cm0000gn/T/ipykernel_48762/3592380058.py:2: TqdmDeprecationWarning: This function will be removed in tqdm==5.0.0\n",
      "Please use `tqdm.notebook.tqdm` instead of `tqdm.tqdm_notebook`\n",
      "  for i in tqdmn(range(2), leave=False, desc='1. Rounding the historical landmarks' ) :\n"
     ]
    },
    {
     "data": {
      "application/json": {
       "ascii": false,
       "bar_format": null,
       "colour": null,
       "elapsed": 0.018599987030029297,
       "initial": 0,
       "n": 0,
       "ncols": null,
       "nrows": null,
       "postfix": null,
       "prefix": "1. Rounding the historical landmarks",
       "rate": null,
       "total": 2,
       "unit": "it",
       "unit_divisor": 1000,
       "unit_scale": false
      },
      "application/vnd.jupyter.widget-view+json": {
       "model_id": "a2c4215c2cf44263b53085c3205602ff",
       "version_major": 2,
       "version_minor": 0
      },
      "text/plain": [
       "1. Rounding the historical landmarks:   0%|          | 0/2 [00:00<?, ?it/s]"
      ]
     },
     "metadata": {},
     "output_type": "display_data"
    },
    {
     "ename": "TimeoutException",
     "evalue": "Message: timeout: Timed out receiving message from renderer: 600.000\n  (Session info: chrome=106.0.5249.61)\n",
     "output_type": "error",
     "traceback": [
      "\u001b[0;31m---------------------------------------------------------------------------\u001b[0m",
      "\u001b[0;31mTimeoutException\u001b[0m                          Traceback (most recent call last)",
      "Input \u001b[0;32mIn [7]\u001b[0m, in \u001b[0;36m<cell line: 2>\u001b[0;34m()\u001b[0m\n\u001b[1;32m      1\u001b[0m \u001b[38;5;66;03m# We repeat the code below 3 times if we arrive at the end of the navgation list the loop breaks on its own) :\u001b[39;00m\n\u001b[1;32m      2\u001b[0m \u001b[38;5;28;01mfor\u001b[39;00m i \u001b[38;5;129;01min\u001b[39;00m tqdmn(\u001b[38;5;28mrange\u001b[39m(\u001b[38;5;241m2\u001b[39m), leave\u001b[38;5;241m=\u001b[39m\u001b[38;5;28;01mFalse\u001b[39;00m, desc\u001b[38;5;241m=\u001b[39m\u001b[38;5;124m'\u001b[39m\u001b[38;5;124m1. Rounding the historical landmarks\u001b[39m\u001b[38;5;124m'\u001b[39m ) :\n\u001b[1;32m      3\u001b[0m     \n\u001b[1;32m      4\u001b[0m     \u001b[38;5;66;03m# Waiting for the results to appear :\u001b[39;00m\n\u001b[0;32m----> 5\u001b[0m     \u001b[43mWebDriverWait\u001b[49m\u001b[43m(\u001b[49m\u001b[43mdriver\u001b[49m\u001b[43m,\u001b[49m\u001b[38;5;241;43m20\u001b[39;49m\u001b[43m)\u001b[49m\u001b[38;5;241;43m.\u001b[39;49m\u001b[43muntil\u001b[49m\u001b[43m(\u001b[49m\u001b[43mEC\u001b[49m\u001b[38;5;241;43m.\u001b[39;49m\u001b[43mvisibility_of_element_located\u001b[49m\u001b[43m(\u001b[49m\u001b[43m(\u001b[49m\u001b[43mBy\u001b[49m\u001b[38;5;241;43m.\u001b[39;49m\u001b[43mXPATH\u001b[49m\u001b[43m,\u001b[49m\u001b[43m \u001b[49m\u001b[38;5;124;43m\"\u001b[39;49m\u001b[38;5;124;43msection-result-title\u001b[39;49m\u001b[38;5;124;43m\"\u001b[39;49m\u001b[43m)\u001b[49m\u001b[43m)\u001b[49m\u001b[43m)\u001b[49m\n\u001b[1;32m      7\u001b[0m     \u001b[38;5;66;03m# Capturing the names of the competitors and adding it to our historical landmarks' :\u001b[39;00m\n\u001b[1;32m      8\u001b[0m     result_names \u001b[38;5;241m=\u001b[39m [i\u001b[38;5;241m.\u001b[39mtext \u001b[38;5;28;01mfor\u001b[39;00m i \u001b[38;5;129;01min\u001b[39;00m driver\u001b[38;5;241m.\u001b[39mfind_elements_by_css_selector(\u001b[38;5;124m'\u001b[39m\u001b[38;5;124mh3[class=section-result-title]\u001b[39m\u001b[38;5;124m'\u001b[39m)]\n",
      "File \u001b[0;32m~/opt/anaconda3/envs/virtual/lib/python3.9/site-packages/selenium/webdriver/support/wait.py:71\u001b[0m, in \u001b[0;36mWebDriverWait.until\u001b[0;34m(self, method, message)\u001b[0m\n\u001b[1;32m     69\u001b[0m \u001b[38;5;28;01mwhile\u001b[39;00m \u001b[38;5;28;01mTrue\u001b[39;00m:\n\u001b[1;32m     70\u001b[0m     \u001b[38;5;28;01mtry\u001b[39;00m:\n\u001b[0;32m---> 71\u001b[0m         value \u001b[38;5;241m=\u001b[39m \u001b[43mmethod\u001b[49m\u001b[43m(\u001b[49m\u001b[38;5;28;43mself\u001b[39;49m\u001b[38;5;241;43m.\u001b[39;49m\u001b[43m_driver\u001b[49m\u001b[43m)\u001b[49m\n\u001b[1;32m     72\u001b[0m         \u001b[38;5;28;01mif\u001b[39;00m value:\n\u001b[1;32m     73\u001b[0m             \u001b[38;5;28;01mreturn\u001b[39;00m value\n",
      "File \u001b[0;32m~/opt/anaconda3/envs/virtual/lib/python3.9/site-packages/selenium/webdriver/support/expected_conditions.py:128\u001b[0m, in \u001b[0;36mvisibility_of_element_located.__call__\u001b[0;34m(self, driver)\u001b[0m\n\u001b[1;32m    126\u001b[0m \u001b[38;5;28;01mdef\u001b[39;00m \u001b[38;5;21m__call__\u001b[39m(\u001b[38;5;28mself\u001b[39m, driver):\n\u001b[1;32m    127\u001b[0m     \u001b[38;5;28;01mtry\u001b[39;00m:\n\u001b[0;32m--> 128\u001b[0m         \u001b[38;5;28;01mreturn\u001b[39;00m _element_if_visible(\u001b[43m_find_element\u001b[49m\u001b[43m(\u001b[49m\u001b[43mdriver\u001b[49m\u001b[43m,\u001b[49m\u001b[43m \u001b[49m\u001b[38;5;28;43mself\u001b[39;49m\u001b[38;5;241;43m.\u001b[39;49m\u001b[43mlocator\u001b[49m\u001b[43m)\u001b[49m)\n\u001b[1;32m    129\u001b[0m     \u001b[38;5;28;01mexcept\u001b[39;00m StaleElementReferenceException:\n\u001b[1;32m    130\u001b[0m         \u001b[38;5;28;01mreturn\u001b[39;00m \u001b[38;5;28;01mFalse\u001b[39;00m\n",
      "File \u001b[0;32m~/opt/anaconda3/envs/virtual/lib/python3.9/site-packages/selenium/webdriver/support/expected_conditions.py:415\u001b[0m, in \u001b[0;36m_find_element\u001b[0;34m(driver, by)\u001b[0m\n\u001b[1;32m    413\u001b[0m     \u001b[38;5;28;01mraise\u001b[39;00m e\n\u001b[1;32m    414\u001b[0m \u001b[38;5;28;01mexcept\u001b[39;00m WebDriverException \u001b[38;5;28;01mas\u001b[39;00m e:\n\u001b[0;32m--> 415\u001b[0m     \u001b[38;5;28;01mraise\u001b[39;00m e\n",
      "File \u001b[0;32m~/opt/anaconda3/envs/virtual/lib/python3.9/site-packages/selenium/webdriver/support/expected_conditions.py:411\u001b[0m, in \u001b[0;36m_find_element\u001b[0;34m(driver, by)\u001b[0m\n\u001b[1;32m    408\u001b[0m \u001b[38;5;124;03m\"\"\"Looks up an element. Logs and re-raises ``WebDriverException``\u001b[39;00m\n\u001b[1;32m    409\u001b[0m \u001b[38;5;124;03mif thrown.\"\"\"\u001b[39;00m\n\u001b[1;32m    410\u001b[0m \u001b[38;5;28;01mtry\u001b[39;00m:\n\u001b[0;32m--> 411\u001b[0m     \u001b[38;5;28;01mreturn\u001b[39;00m \u001b[43mdriver\u001b[49m\u001b[38;5;241;43m.\u001b[39;49m\u001b[43mfind_element\u001b[49m\u001b[43m(\u001b[49m\u001b[38;5;241;43m*\u001b[39;49m\u001b[43mby\u001b[49m\u001b[43m)\u001b[49m\n\u001b[1;32m    412\u001b[0m \u001b[38;5;28;01mexcept\u001b[39;00m NoSuchElementException \u001b[38;5;28;01mas\u001b[39;00m e:\n\u001b[1;32m    413\u001b[0m     \u001b[38;5;28;01mraise\u001b[39;00m e\n",
      "File \u001b[0;32m~/opt/anaconda3/envs/virtual/lib/python3.9/site-packages/selenium/webdriver/remote/webdriver.py:976\u001b[0m, in \u001b[0;36mWebDriver.find_element\u001b[0;34m(self, by, value)\u001b[0m\n\u001b[1;32m    974\u001b[0m         by \u001b[38;5;241m=\u001b[39m By\u001b[38;5;241m.\u001b[39mCSS_SELECTOR\n\u001b[1;32m    975\u001b[0m         value \u001b[38;5;241m=\u001b[39m \u001b[38;5;124m'\u001b[39m\u001b[38;5;124m[name=\u001b[39m\u001b[38;5;124m\"\u001b[39m\u001b[38;5;132;01m%s\u001b[39;00m\u001b[38;5;124m\"\u001b[39m\u001b[38;5;124m]\u001b[39m\u001b[38;5;124m'\u001b[39m \u001b[38;5;241m%\u001b[39m value\n\u001b[0;32m--> 976\u001b[0m \u001b[38;5;28;01mreturn\u001b[39;00m \u001b[38;5;28;43mself\u001b[39;49m\u001b[38;5;241;43m.\u001b[39;49m\u001b[43mexecute\u001b[49m\u001b[43m(\u001b[49m\u001b[43mCommand\u001b[49m\u001b[38;5;241;43m.\u001b[39;49m\u001b[43mFIND_ELEMENT\u001b[49m\u001b[43m,\u001b[49m\u001b[43m \u001b[49m\u001b[43m{\u001b[49m\n\u001b[1;32m    977\u001b[0m \u001b[43m    \u001b[49m\u001b[38;5;124;43m'\u001b[39;49m\u001b[38;5;124;43musing\u001b[39;49m\u001b[38;5;124;43m'\u001b[39;49m\u001b[43m:\u001b[49m\u001b[43m \u001b[49m\u001b[43mby\u001b[49m\u001b[43m,\u001b[49m\n\u001b[1;32m    978\u001b[0m \u001b[43m    \u001b[49m\u001b[38;5;124;43m'\u001b[39;49m\u001b[38;5;124;43mvalue\u001b[39;49m\u001b[38;5;124;43m'\u001b[39;49m\u001b[43m:\u001b[49m\u001b[43m \u001b[49m\u001b[43mvalue\u001b[49m\u001b[43m}\u001b[49m\u001b[43m)\u001b[49m[\u001b[38;5;124m'\u001b[39m\u001b[38;5;124mvalue\u001b[39m\u001b[38;5;124m'\u001b[39m]\n",
      "File \u001b[0;32m~/opt/anaconda3/envs/virtual/lib/python3.9/site-packages/selenium/webdriver/remote/webdriver.py:321\u001b[0m, in \u001b[0;36mWebDriver.execute\u001b[0;34m(self, driver_command, params)\u001b[0m\n\u001b[1;32m    319\u001b[0m response \u001b[38;5;241m=\u001b[39m \u001b[38;5;28mself\u001b[39m\u001b[38;5;241m.\u001b[39mcommand_executor\u001b[38;5;241m.\u001b[39mexecute(driver_command, params)\n\u001b[1;32m    320\u001b[0m \u001b[38;5;28;01mif\u001b[39;00m response:\n\u001b[0;32m--> 321\u001b[0m     \u001b[38;5;28;43mself\u001b[39;49m\u001b[38;5;241;43m.\u001b[39;49m\u001b[43merror_handler\u001b[49m\u001b[38;5;241;43m.\u001b[39;49m\u001b[43mcheck_response\u001b[49m\u001b[43m(\u001b[49m\u001b[43mresponse\u001b[49m\u001b[43m)\u001b[49m\n\u001b[1;32m    322\u001b[0m     response[\u001b[38;5;124m'\u001b[39m\u001b[38;5;124mvalue\u001b[39m\u001b[38;5;124m'\u001b[39m] \u001b[38;5;241m=\u001b[39m \u001b[38;5;28mself\u001b[39m\u001b[38;5;241m.\u001b[39m_unwrap_value(\n\u001b[1;32m    323\u001b[0m         response\u001b[38;5;241m.\u001b[39mget(\u001b[38;5;124m'\u001b[39m\u001b[38;5;124mvalue\u001b[39m\u001b[38;5;124m'\u001b[39m, \u001b[38;5;28;01mNone\u001b[39;00m))\n\u001b[1;32m    324\u001b[0m     \u001b[38;5;28;01mreturn\u001b[39;00m response\n",
      "File \u001b[0;32m~/opt/anaconda3/envs/virtual/lib/python3.9/site-packages/selenium/webdriver/remote/errorhandler.py:242\u001b[0m, in \u001b[0;36mErrorHandler.check_response\u001b[0;34m(self, response)\u001b[0m\n\u001b[1;32m    240\u001b[0m         alert_text \u001b[38;5;241m=\u001b[39m value[\u001b[38;5;124m'\u001b[39m\u001b[38;5;124malert\u001b[39m\u001b[38;5;124m'\u001b[39m]\u001b[38;5;241m.\u001b[39mget(\u001b[38;5;124m'\u001b[39m\u001b[38;5;124mtext\u001b[39m\u001b[38;5;124m'\u001b[39m)\n\u001b[1;32m    241\u001b[0m     \u001b[38;5;28;01mraise\u001b[39;00m exception_class(message, screen, stacktrace, alert_text)\n\u001b[0;32m--> 242\u001b[0m \u001b[38;5;28;01mraise\u001b[39;00m exception_class(message, screen, stacktrace)\n",
      "\u001b[0;31mTimeoutException\u001b[0m: Message: timeout: Timed out receiving message from renderer: 600.000\n  (Session info: chrome=106.0.5249.61)\n"
     ]
    }
   ],
   "source": [
    "# We repeat the code below 3 times if we arrive at the end of the navgation list the loop breaks on its own) :\n",
    "for i in tqdmn(range(2), leave=False, desc='1. Rounding the historical landmarks' ) :\n",
    "    \n",
    "    # Waiting for the results to appear :\n",
    "    WebDriverWait(driver,20).until(EC.visibility_of_element_located((By.XPATH, \"section-result-title\")))\n",
    "\n",
    "    # Capturing the names of the competitors and adding it to our historical landmarks' :\n",
    "    result_names = [i.text for i in driver.find_elements_by_css_selector('h3[class=section-result-title]')]\n",
    "    result_addresses = [i.text for i in driver.find_elements_by_css_selector('span[class=section-result-location]')] \n",
    "    \n",
    "    for name, address in zip(result_names, result_addresses) :\n",
    "        landmarks.append(name + ' ' + address)\n",
    "        \n",
    "    # Waiting for the 'Next' button to be visible and then click it. If it's not there anymore, break the loop :\n",
    "    try :\n",
    "        WebDriverWait(driver,20).until(EC.visibility_of_element_located((By.CSS_SELECTOR, \"//*[@id='n7lv7yjyC35__section-pagination-button-next']\"))).click()\n",
    "    except ElementClickInterceptedException :\n",
    "        break\n",
    "        \n",
    "    # Waiting 5 seconds before looping (otherwise we get the error ElementClickInterceptedException). If you get the\n",
    "    #exception, make it wait for a little longer than 5 seconds :\n",
    "    time.sleep(45)\n",
    "\n",
    "\n",
    "# We want to remove any '/' character in the names and addresses in the landmarks list (because they'll break URLs) :\n",
    "landmarks = [i.replace('/', ' ') for i in landmarks]\n",
    "\n",
    "# These are the empty lists we will populate with the extracted data :\n",
    "full_name = []\n",
    "rating = []\n",
    "total_ratings = []\n",
    "landmark_cat = []\n",
    "description = []\n",
    "address = []\n",
    "hours = []\n",
    "lat = []\n",
    "long = []\n",
    "    \n",
    "# Here's the big loop iterating over the landmarks list :\n",
    "for landmark in tqdmn(landmarks, leave=False, desc='2. Extracting the data') :\n",
    "    \n",
    "    # URL making :\n",
    "    url = 'https://www.google.com/maps/search/' + landmark\n",
    "    driver.get(url)\n",
    "\n",
    "    # Waiting for the name of the landmark to load and be visible. If it fails, skip to next one :\n",
    "    try :\n",
    "        WebDriverWait(driver,15).until(EC.visibility_of_element_located((By.CSS_SELECTOR, \"section-hero-header-title-title\")))\n",
    "    except (NoSuchElementException, TimeoutException) as e :\n",
    "        continue\n",
    "        \n",
    "    # Extracting the data and putting it into the empty lists we defined earlier :\n",
    "    try:\n",
    "        full_name.append(driver.find_element_by_xpath('//*[@id=\"pane\"]/div/div[1]/div/div/div[2]/div[1]/div[1]').text)\n",
    "    except NoSuchElementException :\n",
    "        full_name.append(np.nan)\n",
    "\n",
    "    try:\n",
    "        rating.append(driver.find_element_by_xpath('//*[@id=\"pane\"]/div/div[1]/div/div/div[2]/div[1]/div[2]/div/div[1]/span[1]/span/span').text)\n",
    "    except NoSuchElementException :\n",
    "        rating.append(np.nan)\n",
    "\n",
    "    try:\n",
    "        total_ratings.append(driver.find_element_by_xpath('//*[@id=\"pane\"]/div/div[1]/div/div/div[2]/div[1]/div[2]/div/div[1]/span[2]/span/span[1]/span[2]/span[1]/button').text)\n",
    "    except NoSuchElementException:\n",
    "        total_ratings.append(np.nan)\n",
    "\n",
    "    try:\n",
    "        landmark_cat.append(driver.find_element_by_xpath('//*[@id=\"pane\"]/div/div[1]/div/div/div[2]/div[1]/div[2]/div/div[2]/span[1]/span[1]/button').text)\n",
    "    except NoSuchElementException:\n",
    "        landmark_cat.append(np.nan)\n",
    "    \n",
    "    try:\n",
    "        description.append(driver.find_element_by_css_selector('div[class=section-editorial-quote]').text)\n",
    "    except NoSuchElementException:\n",
    "        description.append(np.nan\n",
    "                          )\n",
    "    try:\n",
    "        address.append(driver.find_element_by_css_selector('div[data-tooltip=\"Copy address\"]').text)\n",
    "    except NoSuchElementException :\n",
    "        address.append(np.nan)\n",
    "\n",
    "    # Here we capture the popular hours for all 7 days starting with Sunday :\n",
    "    try:\n",
    "        hours.append([i.get_attribute('aria-label') for i in driver.find_elements_by_xpath(\"//*[contains(@aria-label, 'busy at')]\")])\n",
    "    except NoSuchElementException:\n",
    "        hours.append(np.nan)\n",
    "        \n",
    "    try:\n",
    "        coordinates = driver.find_element_by_css_selector('meta[itemprop=image]').get_attribute('content')\n",
    "        coordinates = coordinates.split('?center=')[1].split('&zoom=')[0].split('%2C')\n",
    "        lat.append(coordinates[0])\n",
    "        long.append(coordinates[1])\n",
    "    except NoSuchElementException:\n",
    "        lat.append(np.nan)\n",
    "        long.append(np.nan)\n",
    "print(hours)\n",
    "# Closing the Chrome window\n",
    "driver.close()\n"
   ]
  },
  {
   "cell_type": "code",
   "execution_count": null,
   "id": "0be958e6-b5e3-4383-8162-3a6e9e193ff1",
   "metadata": {},
   "outputs": [],
   "source": [
    "HL = pd.DataFrame(data={'full_name':full_name, 'rating':rating, 'total_ratings':total_ratings, 'landmark_category':landmark_cat, 'description':description, 'address':address, 'hours':hours})"
   ]
  },
  {
   "cell_type": "code",
   "execution_count": null,
   "id": "8ce8dd2e-6aa2-4733-b0a6-000b23cfdfb3",
   "metadata": {},
   "outputs": [],
   "source": [
    "HL.head()"
   ]
  }
 ],
 "metadata": {
  "kernelspec": {
   "display_name": "Python 3 (ipykernel)",
   "language": "python",
   "name": "python3"
  },
  "language_info": {
   "codemirror_mode": {
    "name": "ipython",
    "version": 3
   },
   "file_extension": ".py",
   "mimetype": "text/x-python",
   "name": "python",
   "nbconvert_exporter": "python",
   "pygments_lexer": "ipython3",
   "version": "3.9.7"
  }
 },
 "nbformat": 4,
 "nbformat_minor": 5
}
